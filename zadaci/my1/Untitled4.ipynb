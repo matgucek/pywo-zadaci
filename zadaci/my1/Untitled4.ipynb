{
 "cells": [
  {
   "cell_type": "markdown",
   "metadata": {},
   "source": [
    "# predavanje"
   ]
  },
  {
   "cell_type": "code",
   "execution_count": 1,
   "metadata": {
    "collapsed": false
   },
   "outputs": [],
   "source": [
    "\n",
    "\n",
    "import sympy as sym\n"
   ]
  },
  {
   "cell_type": "code",
   "execution_count": 2,
   "metadata": {
    "collapsed": false
   },
   "outputs": [
    {
     "data": {
      "image/png": "[encoded data removed]",
      "text/latex": [
       "$$\\left [ 2, \\quad - \\frac{2}{3} - \\frac{1}{9 \\left(- \\frac{1}{2} - \\frac{\\sqrt{3} i}{2}\\right) \\sqrt[3]{\\frac{\\sqrt{69}}{18} + \\frac{25}{54}}} - \\left(- \\frac{1}{2} - \\frac{\\sqrt{3} i}{2}\\right) \\sqrt[3]{\\frac{\\sqrt{69}}{18} + \\frac{25}{54}}, \\quad - \\frac{2}{3} - \\left(- \\frac{1}{2} + \\frac{\\sqrt{3} i}{2}\\right) \\sqrt[3]{\\frac{\\sqrt{69}}{18} + \\frac{25}{54}} - \\frac{1}{9 \\left(- \\frac{1}{2} + \\frac{\\sqrt{3} i}{2}\\right) \\sqrt[3]{\\frac{\\sqrt{69}}{18} + \\frac{25}{54}}}, \\quad - \\sqrt[3]{\\frac{\\sqrt{69}}{18} + \\frac{25}{54}} - \\frac{2}{3} - \\frac{1}{9 \\sqrt[3]{\\frac{\\sqrt{69}}{18} + \\frac{25}{54}}}\\right ]$$"
      ],
      "text/plain": [
       "⎡                                                                     ________\n",
       "⎢                                                ⎛        ___  ⎞     ╱   ____ \n",
       "⎢     2                    1                     ⎜  1   ╲╱ 3 ⋅ⅈ⎟    ╱  ╲╱ 69  \n",
       "⎢2, - ─ - ──────────────────────────────────── - ⎜- ─ - ───────⎟⋅3 ╱   ────── \n",
       "⎢     3                          _____________   ⎝  2      2   ⎠ ╲╱      18   \n",
       "⎢           ⎛        ___  ⎞     ╱   ____                                      \n",
       "⎢           ⎜  1   ╲╱ 3 ⋅ⅈ⎟    ╱  ╲╱ 69    25                                 \n",
       "⎢         9⋅⎜- ─ - ───────⎟⋅3 ╱   ────── + ──                                 \n",
       "⎣           ⎝  2      2   ⎠ ╲╱      18     54                                 \n",
       "\n",
       "_____                             _____________                               \n",
       "             ⎛        ___  ⎞     ╱   ____                                     \n",
       "  25     2   ⎜  1   ╲╱ 3 ⋅ⅈ⎟    ╱  ╲╱ 69    25                     1          \n",
       "+ ── , - ─ - ⎜- ─ + ───────⎟⋅3 ╱   ────── + ──  - ────────────────────────────\n",
       "  54     3   ⎝  2      2   ⎠ ╲╱      18     54                           _____\n",
       "                                                    ⎛        ___  ⎞     ╱   __\n",
       "                                                    ⎜  1   ╲╱ 3 ⋅ⅈ⎟    ╱  ╲╱ 6\n",
       "                                                  9⋅⎜- ─ + ───────⎟⋅3 ╱   ────\n",
       "                                                    ⎝  2      2   ⎠ ╲╱      18\n",
       "\n",
       "                 _____________                           ⎤\n",
       "                ╱   ____                                 ⎥\n",
       "               ╱  ╲╱ 69    25    2            1          ⎥\n",
       "────────, - 3 ╱   ────── + ──  - ─ - ────────────────────⎥\n",
       "________    ╲╱      18     54    3          _____________⎥\n",
       "__                                         ╱   ____      ⎥\n",
       "9    25                                   ╱  ╲╱ 69    25 ⎥\n",
       "── + ──                              9⋅3 ╱   ────── + ── ⎥\n",
       "     54                                ╲╱      18     54 ⎦"
      ]
     },
     "execution_count": 2,
     "metadata": {},
     "output_type": "execute_result"
    }
   ],
   "source": [
    "\n",
    "\n",
    "from sympy import init_printing\n",
    "\n",
    "init_printing()\n",
    "x = sym.symbols('x')\n",
    "\n",
    "sym.solve(-x**4+3*x**2+x+2, x)"
   ]
  },
  {
   "cell_type": "code",
   "execution_count": 6,
   "metadata": {
    "collapsed": false
   },
   "outputs": [
    {
     "data": {
      "image/png": "[encoded data removed]",
      "text/latex": [
       "$$\\left [ \\left(- \\frac{1}{2} - \\frac{\\sqrt{3} i}{2}\\right) \\sqrt[3]{\\frac{1}{8} + \\frac{\\sqrt{7} i}{8}} + \\frac{1}{2 \\left(- \\frac{1}{2} - \\frac{\\sqrt{3} i}{2}\\right) \\sqrt[3]{\\frac{1}{8} + \\frac{\\sqrt{7} i}{8}}}, \\quad \\frac{1}{2 \\left(- \\frac{1}{2} + \\frac{\\sqrt{3} i}{2}\\right) \\sqrt[3]{\\frac{1}{8} + \\frac{\\sqrt{7} i}{8}}} + \\left(- \\frac{1}{2} + \\frac{\\sqrt{3} i}{2}\\right) \\sqrt[3]{\\frac{1}{8} + \\frac{\\sqrt{7} i}{8}}, \\quad \\frac{1}{2 \\sqrt[3]{\\frac{1}{8} + \\frac{\\sqrt{7} i}{8}}} + \\sqrt[3]{\\frac{1}{8} + \\frac{\\sqrt{7} i}{8}}\\right ]$$"
      ],
      "text/plain": [
       "⎡                     _____________                                           \n",
       "⎢⎛        ___  ⎞     ╱       ___                                              \n",
       "⎢⎜  1   ╲╱ 3 ⋅ⅈ⎟    ╱  1   ╲╱ 7 ⋅ⅈ                     1                      \n",
       "⎢⎜- ─ - ───────⎟⋅3 ╱   ─ + ───────  + ────────────────────────────────────, ──\n",
       "⎢⎝  2      2   ⎠ ╲╱    8      8                              _____________    \n",
       "⎢                                       ⎛        ___  ⎞     ╱       ___       \n",
       "⎢                                       ⎜  1   ╲╱ 3 ⋅ⅈ⎟    ╱  1   ╲╱ 7 ⋅ⅈ     \n",
       "⎢                                     2⋅⎜- ─ - ───────⎟⋅3 ╱   ─ + ───────   2⋅\n",
       "⎣                                       ⎝  2      2   ⎠ ╲╱    8      8        \n",
       "\n",
       "                                                          _____________       \n",
       "                                     ⎛        ___  ⎞     ╱       ___          \n",
       "               1                     ⎜  1   ╲╱ 3 ⋅ⅈ⎟    ╱  1   ╲╱ 7 ⋅ⅈ        \n",
       "────────────────────────────────── + ⎜- ─ + ───────⎟⋅3 ╱   ─ + ─────── , ─────\n",
       "                     _____________   ⎝  2      2   ⎠ ╲╱    8      8           \n",
       "⎛        ___  ⎞     ╱       ___                                               \n",
       "⎜  1   ╲╱ 3 ⋅ⅈ⎟    ╱  1   ╲╱ 7 ⋅ⅈ                                             \n",
       "⎜- ─ + ───────⎟⋅3 ╱   ─ + ───────                                        2⋅3 ╱\n",
       "⎝  2      2   ⎠ ╲╱    8      8                                             ╲╱ \n",
       "\n",
       "                       _____________⎤\n",
       "                      ╱       ___   ⎥\n",
       "    1                ╱  1   ╲╱ 7 ⋅ⅈ ⎥\n",
       "─────────────── + 3 ╱   ─ + ─────── ⎥\n",
       "  _____________   ╲╱    8      8    ⎥\n",
       " ╱       ___                        ⎥\n",
       "╱  1   ╲╱ 7 ⋅ⅈ                      ⎥\n",
       "   ─ + ───────                      ⎥\n",
       "   8      8                         ⎦"
      ]
     },
     "execution_count": 6,
     "metadata": {},
     "output_type": "execute_result"
    }
   ],
   "source": [
    "h=sym.simplify('-x^4+3*x^2+x+2')\n",
    "init_printing()\n",
    "ekstremi= sym.solve(sym.diff(h))\n",
    "ekstremi"
   ]
  },
  {
   "cell_type": "code",
   "execution_count": 26,
   "metadata": {
    "collapsed": false
   },
   "outputs": [
    {
     "data": {
      "text/plain": [
       "<sympy.plotting.plot.Plot at 0xb0e0982c>"
      ]
     },
     "execution_count": 26,
     "metadata": {},
     "output_type": "execute_result"
    }
   ],
   "source": [
    "\n",
    "sym.plotting.plot(h,(x,-3,3),ylim=(-1,6))"
   ]
  },
  {
   "cell_type": "code",
   "execution_count": 16,
   "metadata": {
    "collapsed": false
   },
   "outputs": [
    {
     "data": {
      "text/plain": [
       "array([1, 2, 3, 4])"
      ]
     },
     "execution_count": 16,
     "metadata": {},
     "output_type": "execute_result"
    }
   ],
   "source": [
    "import numpy as np\n",
    "v=np.array([1,2,3,4])\n",
    "v"
   ]
  },
  {
   "cell_type": "code",
   "execution_count": 17,
   "metadata": {
    "collapsed": false
   },
   "outputs": [
    {
     "data": {
      "text/plain": [
       "numpy.ndarray"
      ]
     },
     "execution_count": 17,
     "metadata": {},
     "output_type": "execute_result"
    }
   ],
   "source": [
    "type(v)"
   ]
  },
  {
   "cell_type": "code",
   "execution_count": 18,
   "metadata": {
    "collapsed": false
   },
   "outputs": [
    {
     "data": {
      "image/png": "[encoded data removed]",
      "text/latex": [
       "$$\\left ( 4\\right )$$"
      ],
      "text/plain": [
       "(4,)"
      ]
     },
     "execution_count": 18,
     "metadata": {},
     "output_type": "execute_result"
    }
   ],
   "source": [
    "v.shape"
   ]
  },
  {
   "cell_type": "code",
   "execution_count": 20,
   "metadata": {
    "collapsed": false
   },
   "outputs": [
    {
     "data": {
      "image/png": "[encoded data removed]",
      "text/latex": [
       "$$4$$"
      ],
      "text/plain": [
       "4"
      ]
     },
     "execution_count": 20,
     "metadata": {},
     "output_type": "execute_result"
    }
   ],
   "source": [
    "v.size"
   ]
  },
  {
   "cell_type": "code",
   "execution_count": 28,
   "metadata": {
    "collapsed": false
   },
   "outputs": [
    {
     "data": {
      "text/plain": [
       "array([0, 1, 2, 3, 4, 5, 6, 7, 8, 9])"
      ]
     },
     "execution_count": 28,
     "metadata": {},
     "output_type": "execute_result"
    }
   ],
   "source": [
    "x=np.arange(0,10,1)\n",
    "x"
   ]
  },
  {
   "cell_type": "code",
   "execution_count": 29,
   "metadata": {
    "collapsed": false
   },
   "outputs": [
    {
     "data": {
      "text/plain": [
       "array([  1.        ,   1.3877551 ,   1.7755102 ,   2.16326531,\n",
       "         2.55102041,   2.93877551,   3.32653061,   3.71428571,\n",
       "         4.10204082,   4.48979592,   4.87755102,   5.26530612,\n",
       "         5.65306122,   6.04081633,   6.42857143,   6.81632653,\n",
       "         7.20408163,   7.59183673,   7.97959184,   8.36734694,\n",
       "         8.75510204,   9.14285714,   9.53061224,   9.91836735,\n",
       "        10.30612245,  10.69387755,  11.08163265,  11.46938776,\n",
       "        11.85714286,  12.24489796,  12.63265306,  13.02040816,\n",
       "        13.40816327,  13.79591837,  14.18367347,  14.57142857,\n",
       "        14.95918367,  15.34693878,  15.73469388,  16.12244898,\n",
       "        16.51020408,  16.89795918,  17.28571429,  17.67346939,\n",
       "        18.06122449,  18.44897959,  18.83673469,  19.2244898 ,\n",
       "        19.6122449 ,  20.        ])"
      ]
     },
     "execution_count": 29,
     "metadata": {},
     "output_type": "execute_result"
    }
   ],
   "source": [
    "np.linspace(1,20)\n"
   ]
  },
  {
   "cell_type": "code",
   "execution_count": 30,
   "metadata": {
    "collapsed": false
   },
   "outputs": [
    {
     "data": {
      "text/plain": [
       "array([[ 0.0524616 , -0.9519567 ,  1.0432294 , -0.24663683,  0.10674248],\n",
       "       [-0.54040503, -1.24339293,  1.39103246, -2.22046059,  0.83495821],\n",
       "       [-0.7080622 ,  1.62246078, -0.42799028,  0.41523801,  0.30709545],\n",
       "       [-0.76632309,  0.83986012, -1.07901174, -1.09853175, -0.48230094],\n",
       "       [-1.0874829 ,  1.14404148,  0.00964541, -1.1941887 ,  1.35040222]])"
      ]
     },
     "execution_count": 30,
     "metadata": {},
     "output_type": "execute_result"
    }
   ],
   "source": [
    "\n",
    "\n",
    "np.random.randn(5,5)"
   ]
  },
  {
   "cell_type": "code",
   "execution_count": 31,
   "metadata": {
    "collapsed": false
   },
   "outputs": [
    {
     "data": {
      "text/plain": [
       "array([[1, 0, 0, 0],\n",
       "       [0, 2, 0, 0],\n",
       "       [0, 0, 3, 0],\n",
       "       [0, 0, 0, 4]])"
      ]
     },
     "execution_count": 31,
     "metadata": {},
     "output_type": "execute_result"
    }
   ],
   "source": [
    "np.diag([1,2,3,4])"
   ]
  },
  {
   "cell_type": "code",
   "execution_count": 32,
   "metadata": {
    "collapsed": false
   },
   "outputs": [
    {
     "data": {
      "text/plain": [
       "array([[ 0.,  0.,  0.,  0.],\n",
       "       [ 0.,  0.,  0.,  0.],\n",
       "       [ 0.,  0.,  0.,  0.],\n",
       "       [ 0.,  0.,  0.,  0.]])"
      ]
     },
     "execution_count": 32,
     "metadata": {},
     "output_type": "execute_result"
    }
   ],
   "source": [
    "np.zeros((4,4))"
   ]
  },
  {
   "cell_type": "code",
   "execution_count": 33,
   "metadata": {
    "collapsed": false
   },
   "outputs": [
    {
     "name": "stdout",
     "output_type": "stream",
     "text": [
      "\"Month\",\"Average monthly temperatures across the world\"\r",
      "\r\n",
      "\"1951-01\",2.9\r",
      "\r\n",
      "\"1951-02\",5.0\r",
      "\r\n",
      "\"1951-03\",6.2\r",
      "\r\n",
      "\"1951-04\",11.1\r",
      "\r\n",
      "\"1951-05\",15.6\r",
      "\r\n",
      "\"1951-06\",19.1\r",
      "\r\n",
      "\"1951-07\",19.9\r",
      "\r\n",
      "\"1951-08\",21.2\r",
      "\r\n",
      "\"1951-09\",17.9\r",
      "\r\n"
     ]
    }
   ],
   "source": [
    "!head -10 average-monthly-temperatures-acr.csv\n"
   ]
  },
  {
   "cell_type": "code",
   "execution_count": 45,
   "metadata": {
    "collapsed": false
   },
   "outputs": [],
   "source": [
    "!tr \"\\-\" \",\" < average-monthly-temperatures-acr.csv > b.csv\n",
    "!tr -d \"\\\"\" <b.csv >c.csv\n",
    "!tr -d \"\\?\"<c.csv >d.csv"
   ]
  },
  {
   "cell_type": "code",
   "execution_count": null,
   "metadata": {
    "collapsed": false
   },
   "outputs": [],
   "source": []
  },
  {
   "cell_type": "code",
   "execution_count": 46,
   "metadata": {
    "collapsed": true
   },
   "outputs": [],
   "source": [
    "data=np.genfromtxt('d.csv', skiprows=1,skip_footer=True,delimiter=',',filling_values=0)"
   ]
  },
  {
   "cell_type": "code",
   "execution_count": 47,
   "metadata": {
    "collapsed": false
   },
   "outputs": [
    {
     "data": {
      "text/plain": [
       "((552, 3), dtype('float64'))"
      ]
     },
     "execution_count": 47,
     "metadata": {},
     "output_type": "execute_result"
    }
   ],
   "source": [
    "data.shape,data.dtype"
   ]
  },
  {
   "cell_type": "code",
   "execution_count": 48,
   "metadata": {
    "collapsed": false
   },
   "outputs": [
    {
     "data": {
      "text/plain": [
       "array([[  1.95100000e+03,   1.00000000e+00,   2.90000000e+00],\n",
       "       [  1.95100000e+03,   2.00000000e+00,   5.00000000e+00],\n",
       "       [  1.95100000e+03,   3.00000000e+00,   6.20000000e+00],\n",
       "       ..., \n",
       "       [  1.99600000e+03,   1.00000000e+01,   1.22000000e+01],\n",
       "       [  1.99600000e+03,   1.10000000e+01,   8.30000000e+00],\n",
       "       [  1.99600000e+03,   1.20000000e+01,   9.00000000e-01]])"
      ]
     },
     "execution_count": 48,
     "metadata": {},
     "output_type": "execute_result"
    }
   ],
   "source": [
    "data"
   ]
  },
  {
   "cell_type": "code",
   "execution_count": 49,
   "metadata": {
    "collapsed": false
   },
   "outputs": [
    {
     "data": {
      "text/plain": [
       "array([  1.95100000e+03,   1.00000000e+00,   2.90000000e+00])"
      ]
     },
     "execution_count": 49,
     "metadata": {},
     "output_type": "execute_result"
    }
   ],
   "source": [
    "data[0]"
   ]
  },
  {
   "cell_type": "code",
   "execution_count": 50,
   "metadata": {
    "collapsed": false
   },
   "outputs": [
    {
     "data": {
      "image/png": "[encoded data removed]",
      "text/latex": [
       "$$1951.0$$"
      ],
      "text/plain": [
       "1951.0"
      ]
     },
     "execution_count": 50,
     "metadata": {},
     "output_type": "execute_result"
    }
   ],
   "source": [
    "data[0][0]"
   ]
  },
  {
   "cell_type": "code",
   "execution_count": 51,
   "metadata": {
    "collapsed": false
   },
   "outputs": [
    {
     "data": {
      "text/plain": [
       "array([  1.95100000e+03,   1.00000000e+00,   2.90000000e+00])"
      ]
     },
     "execution_count": 51,
     "metadata": {},
     "output_type": "execute_result"
    }
   ],
   "source": [
    "data[0,...]"
   ]
  },
  {
   "cell_type": "code",
   "execution_count": 55,
   "metadata": {
    "collapsed": false
   },
   "outputs": [
    {
     "data": {
      "text/plain": [
       "array([[  1.95100000e+03,   1.00000000e+00,   2.90000000e+00],\n",
       "       [  1.95100000e+03,   2.00000000e+00,   5.00000000e+00],\n",
       "       [  1.95100000e+03,   3.00000000e+00,   6.20000000e+00],\n",
       "       [  1.95100000e+03,   4.00000000e+00,   1.11000000e+01],\n",
       "       [  1.95100000e+03,   5.00000000e+00,   1.56000000e+01],\n",
       "       [  1.95100000e+03,   6.00000000e+00,   1.91000000e+01],\n",
       "       [  1.95100000e+03,   7.00000000e+00,   1.99000000e+01],\n",
       "       [  1.95100000e+03,   8.00000000e+00,   2.12000000e+01],\n",
       "       [  1.95100000e+03,   9.00000000e+00,   1.79000000e+01],\n",
       "       [  1.95100000e+03,   1.00000000e+01,   9.90000000e+00],\n",
       "       [  1.95100000e+03,   1.10000000e+01,   8.10000000e+00],\n",
       "       [  1.95100000e+03,   1.20000000e+01,   2.20000000e+00]])"
      ]
     },
     "execution_count": 55,
     "metadata": {},
     "output_type": "execute_result"
    }
   ],
   "source": [
    "data[0:12,0:3]"
   ]
  },
  {
   "cell_type": "code",
   "execution_count": 66,
   "metadata": {
    "collapsed": false
   },
   "outputs": [
    {
     "data": {
      "text/plain": [
       "[<matplotlib.lines.Line2D at 0xb0c4f02c>]"
      ]
     },
     "execution_count": 66,
     "metadata": {},
     "output_type": "execute_result"
    },
    {
     "data": {
      "image/png": "[encoded data removed]",
      "text/plain": [
       "<matplotlib.figure.Figure at 0xb0c9356c>"
      ]
     },
     "metadata": {},
     "output_type": "display_data"
    }
   ],
   "source": [
    "from matplotlib import pyplot as plt\n",
    "%matplotlib inline\n",
    "plt.plot(data[:, 2])\n"
   ]
  },
  {
   "cell_type": "code",
   "execution_count": 67,
   "metadata": {
    "collapsed": false
   },
   "outputs": [
    {
     "ename": "NameError",
     "evalue": "name 'A' is not defined",
     "output_type": "error",
     "traceback": [
      "\u001b[1;31m---------------------------------------------------------------------------\u001b[0m",
      "\u001b[1;31mNameError\u001b[0m                                 Traceback (most recent call last)",
      "\u001b[1;32m<ipython-input-67-d2d7f37d12d2>\u001b[0m in \u001b[0;36m<module>\u001b[1;34m()\u001b[0m\n\u001b[1;32m----> 1\u001b[1;33m \u001b[0mnp\u001b[0m\u001b[1;33m.\u001b[0m\u001b[0mdot\u001b[0m\u001b[1;33m(\u001b[0m\u001b[0mA\u001b[0m\u001b[1;33m,\u001b[0m\u001b[0mA\u001b[0m\u001b[1;33m)\u001b[0m\u001b[1;33m\u001b[0m\u001b[0m\n\u001b[0m\u001b[0;32m      2\u001b[0m \u001b[1;31m#Množi matrice A*A\u001b[0m\u001b[1;33m\u001b[0m\u001b[1;33m\u001b[0m\u001b[0m\n",
      "\u001b[1;31mNameError\u001b[0m: name 'A' is not defined"
     ]
    }
   ],
   "source": [
    "np.dot(A,A)\n",
    "#Množi matrice A*A\n"
   ]
  },
  {
   "cell_type": "code",
   "execution_count": 69,
   "metadata": {
    "collapsed": false
   },
   "outputs": [
    {
     "data": {
      "image/png": "[encoded data removed]",
      "text/latex": [
       "$$10.8737318841$$"
      ],
      "text/plain": [
       "10.8737318841"
      ]
     },
     "execution_count": 69,
     "metadata": {},
     "output_type": "execute_result"
    }
   ],
   "source": [
    "np.mean(data[:,2])\n",
    "#prosjecna temperatura"
   ]
  },
  {
   "cell_type": "code",
   "execution_count": 71,
   "metadata": {
    "collapsed": false
   },
   "outputs": [
    {
     "data": {
      "image/png": "[encoded data removed]",
      "text/latex": [
       "$$\\left ( 0.1, \\quad 24.5, \\quad 6.97960397016\\right )$$"
      ],
      "text/plain": [
       "(0.1, 24.5, 6.97960397016)"
      ]
     },
     "execution_count": 71,
     "metadata": {},
     "output_type": "execute_result"
    }
   ],
   "source": [
    "np.min(data[:,2]), np.max(data[:,2]),np.std(data[:,2])"
   ]
  },
  {
   "cell_type": "code",
   "execution_count": 87,
   "metadata": {
    "collapsed": false
   },
   "outputs": [
    {
     "data": {
      "image/png": "[encoded data removed]",
      "text/latex": [
       "$$\\left ( 0.2, \\quad 8.2, \\quad 2.10233577004\\right )$$"
      ],
      "text/plain": [
       "(0.2, 8.2, 2.10233577004)"
      ]
     },
     "execution_count": 87,
     "metadata": {},
     "output_type": "execute_result"
    }
   ],
   "source": [
    "L=[]\n",
    "for k in data:\n",
    "    if (k[1]==2):\n",
    "        L.append(k[2])\n",
    "np.min(L),np.max(L),np.std(L)"
   ]
  },
  {
   "cell_type": "code",
   "execution_count": 98,
   "metadata": {
    "collapsed": false
   },
   "outputs": [
    {
     "data": {
      "image/png": "[encoded data removed]",
      "text/latex": [
       "$$\\left ( 18.2, \\quad 23.0, \\quad 1.27626470875\\right )$$"
      ],
      "text/plain": [
       "(18.2, 23.0, 1.27626470875)"
      ]
     },
     "execution_count": 98,
     "metadata": {},
     "output_type": "execute_result"
    }
   ],
   "source": [
    "L=[]\n",
    "\n",
    "for k in data:\n",
    "    if (k[1]==7):\n",
    "        L.append(k[2])\n",
    "np.min(L),np.max(L),np.std(L)"
   ]
  },
  {
   "cell_type": "code",
   "execution_count": 103,
   "metadata": {
    "collapsed": false
   },
   "outputs": [
    {
     "data": {
      "text/plain": [
       "(array([ 40.,  38.,  24.,  30.,  27.,  19.,  21.,  14.,  17.,  25.,  27.,\n",
       "         22.,  16.,   9.,  18.,  26.,  31.,  20.,  31.,  41.,  32.,  15.,\n",
       "          5.,   3.,   1.,   0.,   0.,   0.,   0.]),\n",
       " array([ 0,  1,  2,  3,  4,  5,  6,  7,  8,  9, 10, 11, 12, 13, 14, 15, 16,\n",
       "        17, 18, 19, 20, 21, 22, 23, 24, 25, 26, 27, 28, 29]),\n",
       " <a list of 29 Patch objects>)"
      ]
     },
     "execution_count": 103,
     "metadata": {},
     "output_type": "execute_result"
    },
    {
     "data": {
      "image/png": "[encoded data removed]",
      "text/plain": [
       "<matplotlib.figure.Figure at 0xb0c886ac>"
      ]
     },
     "metadata": {},
     "output_type": "display_data"
    }
   ],
   "source": [
    "plt.hist(data[:,2], bins = np.arange(30))\n",
    "\n",
    "\n",
    "\n"
   ]
  },
  {
   "cell_type": "code",
   "execution_count": 113,
   "metadata": {
    "collapsed": false
   },
   "outputs": [
    {
     "data": {
      "image/png": "[encoded data removed]",
      "text/latex": [
       "$$\\left [ \\left [ 2.06739130435\\right ], \\quad \\left [ 2.94130434783\\right ], \\quad \\left [ 6.09130434783\\right ], \\quad \\left [ 10.6913043478\\right ], \\quad \\left [ 15.2630434783\\right ], \\quad \\left [ 18.7\\right ], \\quad \\left [ 20.4369565217\\right ], \\quad \\left [ 19.8826086957\\right ], \\quad \\left [ 16.2108695652\\right ], \\quad \\left [ 10.8456521739\\right ], \\quad \\left [ 5.48913043478\\right ], \\quad \\left [ 1.8652173913\\right ]\\right ]$$"
      ],
      "text/plain": [
       "[[2.06739130435], [2.94130434783], [6.09130434783], [10.6913043478], [15.26304\n",
       "34783], [18.7], [20.4369565217], [19.8826086957], [16.2108695652], [10.8456521\n",
       "739], [5.48913043478], [1.8652173913]]"
      ]
     },
     "execution_count": 113,
     "metadata": {},
     "output_type": "execute_result"
    }
   ],
   "source": [
    "i=1\n",
    "prosjek=[]\n",
    "while(i<13):\n",
    "    prosjek.append([np.average([x[2]for x in data if x[1]==i] )])\n",
    "    i=i+1\n",
    "prosjek"
   ]
  },
  {
   "cell_type": "code",
   "execution_count": 116,
   "metadata": {
    "collapsed": false
   },
   "outputs": [
    {
     "data": {
      "image/png": "[encoded data removed]",
      "text/latex": [
       "$$\\left [ \\left [ 11.5916666667\\right ], \\quad \\left [ 10.9833333333\\right ], \\quad \\left [ 10.5333333333\\right ], \\quad \\left [ 10.9666666667\\right ], \\quad \\left [ 10.0\\right ], \\quad \\left [ 10.7083333333\\right ], \\quad \\left [ 11.1583333333\\right ], \\quad \\left [ 11.3333333333\\right ], \\quad \\left [ 10.7583333333\\right ], \\quad \\left [ 11.1666666667\\right ], \\quad \\left [ 11.0833333333\\right ], \\quad \\left [ 9.9\\right ], \\quad \\left [ 11.8833333333\\right ], \\quad \\left [ 10.825\\right ], \\quad \\left [ 10.05\\right ], \\quad \\left [ 11.2583333333\\right ], \\quad \\left [ 10.9833333333\\right ], \\quad \\left [ 10.975\\right ], \\quad \\left [ 10.45\\right ], \\quad \\left [ 10.225\\right ], \\quad \\left [ 10.45\\right ], \\quad \\left [ 10.75\\right ], \\quad \\left [ 10.3333333333\\right ], \\quad \\left [ 10.8833333333\\right ], \\quad \\left [ 11.1333333333\\right ], \\quad \\left [ 10.0833333333\\right ], \\quad \\left [ 11.0916666667\\right ], \\quad \\left [ 9.53333333333\\right ], \\quad \\left [ 11.0416666667\\right ], \\quad \\left [ 10.175\\right ], \\quad \\left [ 11.0166666667\\right ], \\quad \\left [ 11.15\\right ], \\quad \\left [ 11.2\\right ], \\quad \\left [ 10.1666666667\\right ], \\quad \\left [ 11.1583333333\\right ], \\quad \\left [ 10.5\\right ], \\quad \\left [ 10.7916666667\\right ], \\quad \\left [ 10.9083333333\\right ], \\quad \\left [ 11.1416666667\\right ], \\quad \\left [ 11.3583333333\\right ], \\quad \\left [ 10.8333333333\\right ], \\quad \\left [ 11.925\\right ], \\quad \\left [ 11.1083333333\\right ], \\quad \\left [ 12.4166666667\\right ], \\quad \\left [ 11.3916666667\\right ], \\quad \\left [ 10.8166666667\\right ]\\right ]$$"
      ],
      "text/plain": [
       "[[11.5916666667], [10.9833333333], [10.5333333333], [10.9666666667], [10.0], [\n",
       "10.7083333333], [11.1583333333], [11.3333333333], [10.7583333333], [11.1666666\n",
       "667], [11.0833333333], [9.9], [11.8833333333], [10.825], [10.05], [11.25833333\n",
       "33], [10.9833333333], [10.975], [10.45], [10.225], [10.45], [10.75], [10.33333\n",
       "33333], [10.8833333333], [11.1333333333], [10.0833333333], [11.0916666667], [9\n",
       ".53333333333], [11.0416666667], [10.175], [11.0166666667], [11.15], [11.2], [1\n",
       "0.1666666667], [11.1583333333], [10.5], [10.7916666667], [10.9083333333], [11.\n",
       "1416666667], [11.3583333333], [10.8333333333], [11.925], [11.1083333333], [12.\n",
       "4166666667], [11.3916666667], [10.8166666667]]"
      ]
     },
     "execution_count": 116,
     "metadata": {},
     "output_type": "execute_result"
    }
   ],
   "source": [
    "i=1951\n",
    "prosjekg=[]\n",
    "while(i<1997):\n",
    "    prosjekg.append([np.average([x[2]for x in data if x[0]==i] )])\n",
    "    i=i+1\n",
    "prosjekg"
   ]
  },
  {
   "cell_type": "code",
   "execution_count": null,
   "metadata": {
    "collapsed": true
   },
   "outputs": [],
   "source": []
  }
 ],
 "metadata": {
  "kernelspec": {
   "display_name": "Python 3",
   "language": "python",
   "name": "python3"
  },
  "language_info": {
   "codemirror_mode": {
    "name": "ipython",
    "version": 3
   },
   "file_extension": ".py",
   "mimetype": "text/x-python",
   "name": "python",
   "nbconvert_exporter": "python",
   "pygments_lexer": "ipython3",
   "version": "3.4.2"
  }
 },
 "nbformat": 4,
 "nbformat_minor": 0
}
