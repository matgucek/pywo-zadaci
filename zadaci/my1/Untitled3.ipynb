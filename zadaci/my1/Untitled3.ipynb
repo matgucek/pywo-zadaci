{
 "cells": [
  {
   "cell_type": "code",
   "execution_count": 27,
   "metadata": {
    "collapsed": false
   },
   "outputs": [
    {
     "data": {
      "text/plain": [
       "[1, 4, 4, 15]"
      ]
     },
     "execution_count": 27,
     "metadata": {},
     "output_type": "execute_result"
    }
   ],
   "source": [
    "def horner_g(x,poly):\n",
    "    r = 0\n",
    "    for k in poly:\n",
    "        r= r * x + k\n",
    "        yield r\n",
    "        \n",
    "[x for x in horner_g(x=2, poly=[1,2,-4,7])]\n",
    "\n"
   ]
  },
  {
   "cell_type": "code",
   "execution_count": 29,
   "metadata": {
    "collapsed": false
   },
   "outputs": [
    {
     "data": {
      "text/plain": [
       "[1, 4, 4, 15, 1, 6, 16, 1, 8, 1]"
      ]
     },
     "execution_count": 29,
     "metadata": {},
     "output_type": "execute_result"
    }
   ],
   "source": [
    "def horner_retci_g(x,poly):\n",
    "    r = 0\n",
    "    L=[]\n",
    "    y=len(poly)\n",
    "    \n",
    "    while(y>0):\n",
    "        r=0\n",
    "        k=0\n",
    "        while(k<y):\n",
    "            r= r * x + poly[k]\n",
    "            poly[k]=r\n",
    "            k=k+1\n",
    "            yield r        \n",
    "        y=y-1\n",
    "\n",
    "list(horner_retci_g(2, [1, 2, -4, 7]))"
   ]
  },
  {
   "cell_type": "code",
   "execution_count": 28,
   "metadata": {
    "collapsed": false
   },
   "outputs": [
    {
     "name": "stdout",
     "output_type": "stream",
     "text": [
      "[1, 4, 4, 15]\n",
      "[1, 6, 16]\n",
      "[1, 8]\n",
      "[1]\n"
     ]
    }
   ],
   "source": [
    "def horner_g(x,poly,y):\n",
    "    r=0\n",
    "    k=0\n",
    "    while(k<y):\n",
    "            r= r * x + poly[k]\n",
    "            k=k+1\n",
    "            yield r\n",
    "            \n",
    "def horner_retci_g(x, poly):\n",
    "    r = 0\n",
    "    L=[]\n",
    "    y=len(poly)\n",
    "    print(list(horner_g(x,poly,y)))\n",
    "    while(y>1):\n",
    "        r=0\n",
    "        k=0\n",
    "        while(k<y):\n",
    "            r= r * x + poly[k]\n",
    "            poly[k]=r\n",
    "            k=k+1\n",
    "        y=y-1\n",
    "        print([x for x in horner_g(x,poly,y)])\n",
    "        \n",
    "        \n",
    "\n",
    "horner_retci_g(2, [1, 2, -4, 7])"
   ]
  },
  {
   "cell_type": "code",
   "execution_count": 19,
   "metadata": {
    "collapsed": true
   },
   "outputs": [],
   "source": []
  },
  {
   "cell_type": "code",
   "execution_count": null,
   "metadata": {
    "collapsed": true
   },
   "outputs": [],
   "source": []
  }
 ],
 "metadata": {
  "kernelspec": {
   "display_name": "Python 3",
   "language": "python",
   "name": "python3"
  },
  "language_info": {
   "codemirror_mode": {
    "name": "ipython",
    "version": 3
   },
   "file_extension": ".py",
   "mimetype": "text/x-python",
   "name": "python",
   "nbconvert_exporter": "python",
   "pygments_lexer": "ipython3",
   "version": "3.4.2"
  }
 },
 "nbformat": 4,
 "nbformat_minor": 0
}
